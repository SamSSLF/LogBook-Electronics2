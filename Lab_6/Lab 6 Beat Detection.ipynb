{
 "cells": [
  {
   "cell_type": "markdown",
   "id": "valued-negative",
   "metadata": {},
   "source": [
    "# Lab 6: Beat Detection"
   ]
  },
  {
   "cell_type": "markdown",
   "id": "covered-oracle",
   "metadata": {},
   "source": [
    "## Objectives:\n",
    "- [ ] Utilise the low pass filtering effect of a moving average filter\n",
    "- [ ] Perform beat detetction with live music "
   ]
  },
  {
   "cell_type": "markdown",
   "id": "lyric-newfoundland",
   "metadata": {},
   "source": [
    "### Task 1: Moving Average Filter"
   ]
  },
  {
   "cell_type": "code",
   "execution_count": 3,
   "id": "nutritional-hungarian",
   "metadata": {},
   "outputs": [
    {
     "name": "stdout",
     "output_type": "stream",
     "text": [
      "Created file 'C:\\Users\\shenl\\OneDrive - Imperial College London\\Year 2\\Electronics 2\\LogBook-Electronics2\\Lab_6\\lab6task1a.m'.\n"
     ]
    }
   ],
   "source": [
    "%%file lab6task1a.m\n",
    "clear all\n",
    "\n",
    "% reads data from the file named bgs.wav, and returns sampled data, sig, and a sample rate for that data, fs.\n",
    "[sig fs] = audioread('bgs.wav'); \n",
    "\n",
    "% Add noise to music\n",
    "x = sig + 0.2*rand(size(sig));\n",
    "\n",
    "% Plot the signal\n",
    "figure(1);\n",
    "clf;\n",
    "plot(x);\n",
    "xlabel('Sample no');\n",
    "ylabel('Signal(v)');\n",
    "title('Stay Alive Music');\n",
    "\n",
    "% Filter music with moving average filter\n",
    "N = size(x);\n",
    "for i=4:N\n",
    "    y(i) = (x(i)+x(i-1)+x(i-2)+x(i-3))/4;\n",
    "end\n",
    "y(1)=x(1)/4;\n",
    "y(2)=(x(2)+x(1))/4;\n",
    "y(3)=(x(3)+x(2)+x(1))/4;\n",
    "\n",
    "% Play the original sound then the filtered sound\n",
    "sound(x, fs)\n",
    "disp('Playing the original - press return when finished')\n",
    "pause;\n",
    "sound(y, fs)\n",
    "disp('Playing the filtered sound')"
   ]
  },
  {
   "cell_type": "markdown",
   "id": "universal-agency",
   "metadata": {},
   "source": [
    "There is a slight reduction in noise in the filtered version of the music compared to the unfiltered. Now task1a is modified to use a variable number of taps."
   ]
  },
  {
   "cell_type": "code",
   "execution_count": 4,
   "id": "clean-patent",
   "metadata": {},
   "outputs": [
    {
     "name": "stdout",
     "output_type": "stream",
     "text": [
      "Created file 'C:\\Users\\shenl\\OneDrive - Imperial College London\\Year 2\\Electronics 2\\LogBook-Electronics2\\Lab_6\\lab6task1b.m'.\n"
     ]
    }
   ],
   "source": [
    "%%file lab6task1b.m\n",
    "clear all\n",
    "\n",
    "% reads data from the file named bgs.wav, and returns sampled data, sig, and a sample rate for that data, fs.\n",
    "[sig fs] = audioread('bgs.wav'); \n",
    "\n",
    "% Add noise to music\n",
    "x = sig + 0.2*rand(size(sig));\n",
    "\n",
    "% Plot the signal\n",
    "figure(1);\n",
    "clf;\n",
    "plot(x);\n",
    "xlabel('Sample no');\n",
    "ylabel('Signal(v)');\n",
    "title('Stay Alive Music');\n",
    "\n",
    "% Filter music with moving average filter\n",
    "N = size(x);\n",
    "N_tap = 20;\n",
    "for i=N_tap:N\n",
    "    temp = 0;\n",
    "    for j =0:N_tap-1\n",
    "        temp = temp + x(i-j);\n",
    "    end\n",
    "    y(i) = temp/N_tap;\n",
    "end\n",
    "\n",
    "% Play the original sound then the filtered sound\n",
    "sound(x, fs)\n",
    "disp('Playing the original - press return when finished')\n",
    "pause;\n",
    "sound(y, fs)\n",
    "disp('Playing the filtered sound')"
   ]
  },
  {
   "cell_type": "markdown",
   "id": "rough-company",
   "metadata": {},
   "source": [
    "The filtered music now sounds much deeper and the noise has been reduced significantly."
   ]
  },
  {
   "cell_type": "markdown",
   "id": "statewide-child",
   "metadata": {},
   "source": [
    "### Task 2: Basic Beat Detection"
   ]
  },
  {
   "cell_type": "code",
   "execution_count": null,
   "id": "patent-capability",
   "metadata": {},
   "outputs": [],
   "source": []
  }
 ],
 "metadata": {
  "kernelspec": {
   "display_name": "Matlab",
   "language": "matlab",
   "name": "matlab"
  },
  "language_info": {
   "codemirror_mode": "octave",
   "file_extension": ".m",
   "help_links": [
    {
     "text": "MetaKernel Magics",
     "url": "https://metakernel.readthedocs.io/en/latest/source/README.html"
    }
   ],
   "mimetype": "text/x-octave",
   "name": "matlab",
   "version": "0.16.11"
  }
 },
 "nbformat": 4,
 "nbformat_minor": 5
}
